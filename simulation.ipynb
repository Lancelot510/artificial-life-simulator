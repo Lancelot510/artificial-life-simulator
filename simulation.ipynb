{
 "cells": [
  {
   "cell_type": "code",
   "execution_count": 1,
   "metadata": {},
   "outputs": [],
   "source": [
    "from agent import Agent\n",
    "from environment import Environment, Enemy\n",
    "from search import SearchModel"
   ]
  },
  {
   "cell_type": "code",
   "execution_count": 2,
   "metadata": {},
   "outputs": [
    {
     "name": "stdout",
     "output_type": "stream",
     "text": [
      "Agent 1 added to the environment.\n",
      "Enemy added to the environment.\n"
     ]
    }
   ],
   "source": [
    "# Example usage:\n",
    "env = Environment(width=10, height=10)\n",
    "enemy = Enemy(uid=1, xinit=2, yinit=7)\n",
    "agent1 = Agent(unique_id=1, x=3, y=4, view_sight=3, gather_sight=2, env_len=10)\n",
    "agent2 = Agent(unique_id=2, x=6, y=9, view_sight=3, gather_sight=2, env_len=10)\n",
    "agents = [agent1, agent2]\n",
    "# Add bushes to the environment\n",
    "agent1.bushes = {(2, 2), (4, 4), (6, 6)}  # Example bushes\n",
    "agent2.bushes = {(2, 2), (4, 4), (6, 6)}  # Example bushes\n",
    "\n",
    "if env.add_agent(agent1):\n",
    "    print(\"Agent 1 added to the environment.\")\n",
    "else:\n",
    "    print(\"Failed to add agent, position already occupied.\")\n",
    "# if env.add_agent(agent2):\n",
    "#     print(\"Agent 2 added to the environment.\")\n",
    "# else:\n",
    "#     print(\"Failed to add agent, position already occupied.\")\n",
    "if env.add_agent(enemy):\n",
    "    print(\"Enemy added to the environment.\")\n",
    "else:\n",
    "    print(\"Failed to add agent, position already occupied.\")"
   ]
  },
  {
   "cell_type": "code",
   "execution_count": 3,
   "metadata": {},
   "outputs": [
    {
     "name": "stdout",
     "output_type": "stream",
     "text": [
      "+-------------------+\n",
      "9|                     |\n",
      "8|                     |\n",
      "7|     X               |\n",
      "6|                     |\n",
      "5|                     |\n",
      "4|       X             |\n",
      "3|                     |\n",
      "2|                     |\n",
      "1|                     |\n",
      "0|                     |\n",
      "+-------------------+\n",
      "   0 1 2 3 4 5 6 7 8 9 \n"
     ]
    }
   ],
   "source": [
    "env.print_environment()"
   ]
  },
  {
   "cell_type": "code",
   "execution_count": 4,
   "metadata": {},
   "outputs": [],
   "source": [
    "search = SearchModel(environment_len=10, num_agents=2, env=env)"
   ]
  },
  {
   "cell_type": "code",
   "execution_count": 5,
   "metadata": {},
   "outputs": [
    {
     "name": "stdout",
     "output_type": "stream",
     "text": [
      "Starting position: (3, 4)\n",
      "New enemy detected at ((2, 7)), discovering.\n",
      "New Positon: (3, 4)\n",
      "+-------------------+\n",
      "9|                     |\n",
      "8|                     |\n",
      "7|     X               |\n",
      "6|                     |\n",
      "5|                     |\n",
      "4|       X             |\n",
      "3|                     |\n",
      "2|                     |\n",
      "1|                     |\n",
      "0|                     |\n",
      "+-------------------+\n",
      "   0 1 2 3 4 5 6 7 8 9 \n",
      "Starting position: (3, 4)\n",
      "All enemies already detected. Performing Random Search.\n",
      "New enemy detected at ((2, 7)). Performing Strategic Search\n",
      "New Positon: (3, 4)\n",
      "+-------------------+\n",
      "9|                     |\n",
      "8|                     |\n",
      "7|     X               |\n",
      "6|                     |\n",
      "5|                     |\n",
      "4|       X             |\n",
      "3|                     |\n",
      "2|                     |\n",
      "1|                     |\n",
      "0|                     |\n",
      "+-------------------+\n",
      "   0 1 2 3 4 5 6 7 8 9 \n",
      "Starting position: (3, 4)\n",
      "All enemies already detected. Performing Random Search.\n",
      "New enemy detected at ((2, 7)). Performing Strategic Search\n",
      "New Positon: (3, 4)\n",
      "+-------------------+\n",
      "9|                     |\n",
      "8|                     |\n",
      "7|     X               |\n",
      "6|                     |\n",
      "5|                     |\n",
      "4|       X             |\n",
      "3|                     |\n",
      "2|                     |\n",
      "1|                     |\n",
      "0|                     |\n",
      "+-------------------+\n",
      "   0 1 2 3 4 5 6 7 8 9 \n",
      "Starting position: (3, 4)\n",
      "All enemies already detected. Performing Random Search.\n",
      "New enemy detected at ((2, 7)). Performing Strategic Search\n",
      "New Positon: (3, 4)\n",
      "+-------------------+\n",
      "9|                     |\n",
      "8|                     |\n",
      "7|     X               |\n",
      "6|                     |\n",
      "5|                     |\n",
      "4|       X             |\n",
      "3|                     |\n",
      "2|                     |\n",
      "1|                     |\n",
      "0|                     |\n",
      "+-------------------+\n",
      "   0 1 2 3 4 5 6 7 8 9 \n",
      "Starting position: (3, 4)\n",
      "All enemies already detected. Performing Random Search.\n",
      "New enemy detected at ((2, 7)). Performing Strategic Search\n",
      "New Positon: (3, 4)\n",
      "+-------------------+\n",
      "9|                     |\n",
      "8|                     |\n",
      "7|     X               |\n",
      "6|                     |\n",
      "5|                     |\n",
      "4|       X             |\n",
      "3|                     |\n",
      "2|                     |\n",
      "1|                     |\n",
      "0|                     |\n",
      "+-------------------+\n",
      "   0 1 2 3 4 5 6 7 8 9 \n"
     ]
    }
   ],
   "source": [
    "# Print the environment\n",
    "for _ in range(5):\n",
    "    search.step()\n",
    "    search.env.print_environment()"
   ]
  },
  {
   "cell_type": "code",
   "execution_count": null,
   "metadata": {},
   "outputs": [],
   "source": []
  }
 ],
 "metadata": {
  "kernelspec": {
   "display_name": "base",
   "language": "python",
   "name": "python3"
  },
  "language_info": {
   "codemirror_mode": {
    "name": "ipython",
    "version": 3
   },
   "file_extension": ".py",
   "mimetype": "text/x-python",
   "name": "python",
   "nbconvert_exporter": "python",
   "pygments_lexer": "ipython3",
   "version": "3.10.0"
  }
 },
 "nbformat": 4,
 "nbformat_minor": 2
}
